{
 "cells": [
  {
   "cell_type": "markdown",
   "source": [
    "# Homework 1"
   ],
   "metadata": {
    "collapsed": false
   },
   "id": "8404a1c91a7034ee"
  },
  {
   "cell_type": "code",
   "execution_count": 1,
   "outputs": [],
   "source": [
    "import numpy as np"
   ],
   "metadata": {
    "collapsed": false,
    "ExecuteTime": {
     "end_time": "2023-09-20T06:37:22.100786200Z",
     "start_time": "2023-09-20T06:37:22.005573400Z"
    }
   },
   "id": "19cdf1c478b73db"
  },
  {
   "cell_type": "markdown",
   "id": "37150124",
   "metadata": {},
   "source": [
    "**Внимание** Во всех заданиях данной работы **запрещено** обращаться к массивам поэлементно и использовать циклы языка Python"
   ]
  },
  {
   "cell_type": "markdown",
   "id": "1064f725",
   "metadata": {},
   "source": [
    "**Задание 1.** Напишите функцию, принимающую два массива произвольных размерностей и возвращающую True тогда и только тогда, когда эти два массива поэлементно равны"
   ]
  },
  {
   "cell_type": "code",
   "execution_count": 2,
   "id": "95446adb",
   "metadata": {
    "ExecuteTime": {
     "end_time": "2023-09-20T06:37:22.116619100Z",
     "start_time": "2023-09-20T06:37:22.102875900Z"
    }
   },
   "outputs": [],
   "source": [
    "def task1(x, y):\n",
    "    if x.shape == y.shape and (x == y).all():\n",
    "        return True\n",
    "    return False\n",
    "\n",
    "# Тестирование в конце файла"
   ]
  },
  {
   "cell_type": "markdown",
   "source": [
    "**Задание 2.** Напишите функцию, которая принимает на вход двумерный массив (это условие можно не проверять), и возврщает массис, в котором каждый элемент исходного массива поделен на сумму модулей элементов его строки.\n",
    "\n",
    "Например,\n",
    "для массива \n",
    "$$\n",
    "\\left(\\begin{array}{cc}\n",
    "    1 & - 1 \\\\\n",
    "    2 & 4\n",
    "\\end{array}\\right)\n",
    "$$ должен быть возвращен массив\n",
    "$$\n",
    "\\left(\\begin{array}{cc}\n",
    "    \\frac{1}{2} & -\\frac{1}{2} \\\\\n",
    "    \\frac{1}{3} & -\\frac{2}{3}\n",
    "\\end{array}\\right)\n",
    "$$"
   ],
   "metadata": {
    "collapsed": false
   },
   "id": "118e761c"
  },
  {
   "cell_type": "code",
   "execution_count": 3,
   "id": "3693e325",
   "metadata": {
    "ExecuteTime": {
     "end_time": "2023-09-20T06:37:22.165154Z",
     "start_time": "2023-09-20T06:37:22.115546Z"
    }
   },
   "outputs": [],
   "source": [
    "def task2(x):\n",
    "    sums = np.sum(abs(x), axis=1)\n",
    "    if (sums == 0).any():\n",
    "        return False\n",
    "    return x / sums[..., None]\n",
    "\n",
    "# Тестирование в конце файла"
   ]
  },
  {
   "cell_type": "markdown",
   "id": "fb3a12bf",
   "metadata": {},
   "source": [
    "**Задание 3** Напишите функцию, которая принимает на вход одномреный массив и возвращает матрицу Вандермонда для элемментов этого массива.\n",
    "Напомним, что матрицей Вандермонда для элементов $(x_1, x_2, \\ldots, x_n)$ называется квадратная матрица порядка $n$, имеющая следующий вид\n",
    "$$ \n",
    "\\left(\\begin{array}{ccccc}\n",
    "1 & x_1 & x_1^2 & \\ldots  & x_1^{n - 1} \\\\\n",
    "1 & x_2 & x_2^2 & \\ldots  & x_2^{n - 1} \\\\\n",
    "1 & x_3 & x_3^2 & \\ldots  & x_3^{n - 1} \\\\\n",
    "& & \\ldots & & \\\\\n",
    "1 & x_n & x_n^2 & \\ldots  & x_n^{n - 1} \\\\\n",
    "\\end{array}\n",
    "\\right)\n",
    "$$\n",
    "\n",
    "*Важно*: в этом задании запрещено использовать встроенную функцию `np.vander`. И код из нее тоже не надо копировать и даже творчески переписывать не стоит, для решения достаточно функций, показанных на семинаре"
   ]
  },
  {
   "cell_type": "code",
   "execution_count": 4,
   "id": "7ef11eab",
   "metadata": {
    "ExecuteTime": {
     "end_time": "2023-09-20T06:37:22.187496500Z",
     "start_time": "2023-09-20T06:37:22.163105Z"
    }
   },
   "outputs": [],
   "source": [
    "def task3(elements):\n",
    "    if len(elements.shape) > 1:\n",
    "        return False\n",
    "    return elements[..., None] ** np.array([np.arange(0,\n",
    "                                                      len(elements))])  # У меня не получилось превратить одномерную строчку в столбец:( Поэтому подсмотрел на stack over flow такой способ c [..., None] (https://stackoverflow.com/questions/36384760/transforming-a-row-vector-into-a-column-vector-in-numpy)\n",
    "\n",
    "# Тестирование в конце файла"
   ]
  },
  {
   "cell_type": "markdown",
   "id": "f2f9fbb1",
   "metadata": {},
   "source": [
    "**Задание 4.** Напишите функцию, которая принимает на вход массив и возвращает новый массив, который получен из аргмента заменой всех отрицательных элементов на среднее значение всех положительных элементов исходного массива"
   ]
  },
  {
   "cell_type": "code",
   "execution_count": 5,
   "id": "18bb21fd",
   "metadata": {
    "ExecuteTime": {
     "end_time": "2023-09-20T06:37:22.207403800Z",
     "start_time": "2023-09-20T06:37:22.177702700Z"
    }
   },
   "outputs": [],
   "source": [
    "def task4(ar):\n",
    "    pos = ar[ar > 0]\n",
    "    if len(pos) < 1:\n",
    "        return False\n",
    "    ar[ar < 0] = np.sum(pos) / len(pos)\n",
    "    return ar\n",
    "\n",
    "# Тестирование в конце файла"
   ]
  },
  {
   "cell_type": "markdown",
   "source": [
    "## Тестирование"
   ],
   "metadata": {
    "collapsed": false
   },
   "id": "7b9ef140d2665b17"
  },
  {
   "cell_type": "markdown",
   "source": [
    "### Task1"
   ],
   "metadata": {
    "collapsed": false
   },
   "id": "4ab7c1f6ea8cd40e"
  },
  {
   "cell_type": "code",
   "execution_count": 6,
   "id": "6cd32b3d",
   "metadata": {
    "ExecuteTime": {
     "end_time": "2023-09-20T06:37:22.207403800Z",
     "start_time": "2023-09-20T06:37:22.192038Z"
    }
   },
   "outputs": [],
   "source": [
    "# Простые тесты\n",
    "array1 = np.array([\n",
    "    [1, 2, 3],\n",
    "    [4, 5, 6]\n",
    "])\n",
    "array2 = np.array([\n",
    "    [1, 2, 3],\n",
    "    [4, 5, 6]\n",
    "])\n",
    "assert task1(array1, array2) == True\n",
    "\n",
    "array2 = np.array([\n",
    "    [1, 2, 4],\n",
    "    [4, 5, 6]\n",
    "])\n",
    "assert task1(array1, array2) == False"
   ]
  },
  {
   "cell_type": "code",
   "execution_count": 7,
   "outputs": [],
   "source": [
    "# Тест с матрицей из одного числа\n",
    "array1 = np.array(1)\n",
    "array2 = np.array(-1)\n",
    "assert task1(array1, array2) == False\n",
    "\n",
    "array1 = np.array(-90000000021)\n",
    "array2 = np.array(-90000000021)\n",
    "assert task1(array1, array2) == True"
   ],
   "metadata": {
    "collapsed": false,
    "ExecuteTime": {
     "end_time": "2023-09-20T06:37:22.226833500Z",
     "start_time": "2023-09-20T06:37:22.207403800Z"
    }
   },
   "id": "3207767cc6d993da"
  },
  {
   "cell_type": "code",
   "execution_count": 8,
   "outputs": [],
   "source": [
    "# Тест с пустыми\n",
    "array1 = np.array([])\n",
    "array2 = np.array([])\n",
    "assert task1(array1, array2) == True\n",
    "\n",
    "array1 = np.array(1)\n",
    "array2 = np.array(-2)\n",
    "assert task1(array1, array2) == False\n",
    "\n",
    "array1 = np.array([])\n",
    "array2 = np.array(2)\n",
    "assert task1(array1, array2) == False"
   ],
   "metadata": {
    "collapsed": false,
    "ExecuteTime": {
     "end_time": "2023-09-20T06:37:22.259658Z",
     "start_time": "2023-09-20T06:37:22.223833200Z"
    }
   },
   "id": "d92cfd6f860ba40b"
  },
  {
   "cell_type": "code",
   "execution_count": 9,
   "outputs": [],
   "source": [
    "# Тест с матрицами разного размера\n",
    "array1 = np.array([1, 2])\n",
    "array2 = np.array([1])\n",
    "assert task1(array1, array2) == False\n",
    "\n",
    "array1 = np.array([[1, 1]])\n",
    "array2 = np.array([1, 1])\n",
    "assert task1(array1, array2) == False\n",
    "\n",
    "array1 = np.array([10, -11])\n",
    "array2 = np.array([-11, 10])\n",
    "assert task1(array1, array2) == False"
   ],
   "metadata": {
    "collapsed": false,
    "ExecuteTime": {
     "end_time": "2023-09-20T06:37:22.260659600Z",
     "start_time": "2023-09-20T06:37:22.241502100Z"
    }
   },
   "id": "a79b27f73cbc71ed"
  },
  {
   "cell_type": "code",
   "execution_count": 10,
   "outputs": [],
   "source": [
    "# Тест с большими матрицами\n",
    "array1 = np.arange(-10000000, 10000000, 0.33)\n",
    "array2 = np.arange(-10000000, 10000000, 0.33)\n",
    "assert task1(array1, array2) == True"
   ],
   "metadata": {
    "collapsed": false,
    "ExecuteTime": {
     "end_time": "2023-09-20T06:37:22.604963500Z",
     "start_time": "2023-09-20T06:37:22.257656300Z"
    }
   },
   "id": "e53ff16831a84b8e"
  },
  {
   "cell_type": "markdown",
   "source": [
    "### Task2"
   ],
   "metadata": {
    "collapsed": false
   },
   "id": "ca9c8db5ffb68a71"
  },
  {
   "cell_type": "code",
   "execution_count": 11,
   "outputs": [],
   "source": [
    "# Простой тест\n",
    "array1 = np.array([[1, -1], [2, 4]])\n",
    "assert task1(task2(array1), np.array([[0.5, -0.5], [1 / 3, 2 / 3]]))\n",
    "\n",
    "array1 = np.array([[1, -1, 0], [2, 4, 6]])\n",
    "assert task1(task2(array1), np.array([[0.5, -0.5, 0.0], [1 / 6, 2 / 6, 1 / 2]]))"
   ],
   "metadata": {
    "collapsed": false,
    "ExecuteTime": {
     "end_time": "2023-09-20T06:37:22.644879300Z",
     "start_time": "2023-09-20T06:37:22.600951900Z"
    }
   },
   "id": "e329ca72c7411898"
  },
  {
   "cell_type": "code",
   "execution_count": 12,
   "outputs": [],
   "source": [
    "# Тест на нулевой\n",
    "array1 = np.array([[0, 0], [0, 0]])\n",
    "assert task2(array1) == False\n",
    "\n",
    "array1 = np.array([[0, 1], [0, 0]])\n",
    "assert task2(array1) == False"
   ],
   "metadata": {
    "collapsed": false,
    "ExecuteTime": {
     "end_time": "2023-09-20T06:37:22.664472100Z",
     "start_time": "2023-09-20T06:37:22.643878800Z"
    }
   },
   "id": "60316ab50dfc4a36"
  },
  {
   "cell_type": "markdown",
   "source": [
    "### Task3"
   ],
   "metadata": {
    "collapsed": false
   },
   "id": "b4b63b4a2529d5cb"
  },
  {
   "cell_type": "code",
   "execution_count": 13,
   "outputs": [],
   "source": [
    "# Тест на размерность\n",
    "array1 = np.array([[0], [0], [0]])\n",
    "assert task3(array1) == False\n",
    "\n",
    "array1 = np.array([[0], [0]])\n",
    "assert task3(array1) == False"
   ],
   "metadata": {
    "collapsed": false,
    "ExecuteTime": {
     "end_time": "2023-09-20T06:37:22.684187400Z",
     "start_time": "2023-09-20T06:37:22.662478700Z"
    }
   },
   "id": "ae5164c5ae2548a9"
  },
  {
   "cell_type": "code",
   "execution_count": 14,
   "outputs": [],
   "source": [
    "# Простой тест\n",
    "array1 = np.array([1, 2, 3, 4])\n",
    "assert task1(task3(array1), np.array([[1, 1, 1, 1],\n",
    "                                      [1, 2, 4, 8],\n",
    "                                      [1, 3, 9, 27],\n",
    "                                      [1, 4, 16, 64]]))"
   ],
   "metadata": {
    "collapsed": false,
    "ExecuteTime": {
     "end_time": "2023-09-20T06:37:22.695782200Z",
     "start_time": "2023-09-20T06:37:22.678080800Z"
    }
   },
   "id": "e3a5eb441c9c50a2"
  },
  {
   "cell_type": "markdown",
   "source": [
    "### Task 4"
   ],
   "metadata": {
    "collapsed": false
   },
   "id": "d68b506f6a02f507"
  },
  {
   "cell_type": "code",
   "execution_count": 15,
   "outputs": [],
   "source": [
    "# Простой тест\n",
    "array1 = np.array([[1.0, -1.0], [2.0, 4.0]])\n",
    "assert task1(task4(array1), np.array([\n",
    "    [1, 7 / 3],\n",
    "    [2, 4],\n",
    "]))\n"
   ],
   "metadata": {
    "collapsed": false,
    "ExecuteTime": {
     "end_time": "2023-09-20T06:37:22.731804900Z",
     "start_time": "2023-09-20T06:37:22.691740Z"
    }
   },
   "id": "6d2c45e71afb18b4"
  },
  {
   "cell_type": "code",
   "execution_count": 16,
   "outputs": [],
   "source": [
    "# Тест на ноль\n",
    "array1 = np.array([])\n",
    "assert task4(array1) == False"
   ],
   "metadata": {
    "collapsed": false,
    "ExecuteTime": {
     "end_time": "2023-09-20T06:37:22.765530100Z",
     "start_time": "2023-09-20T06:37:22.706072700Z"
    }
   },
   "id": "db8499f8d5231c1"
  }
 ],
 "metadata": {
  "kernelspec": {
   "display_name": "Python 3 (ipykernel)",
   "language": "python",
   "name": "python3"
  },
  "language_info": {
   "codemirror_mode": {
    "name": "ipython",
    "version": 3
   },
   "file_extension": ".py",
   "mimetype": "text/x-python",
   "name": "python",
   "nbconvert_exporter": "python",
   "pygments_lexer": "ipython3",
   "version": "3.10.12"
  }
 },
 "nbformat": 4,
 "nbformat_minor": 5
}
