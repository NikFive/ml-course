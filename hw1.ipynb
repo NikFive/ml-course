{
 "cells": [
  {
   "cell_type": "markdown",
   "source": [
    "# Homework 1"
   ],
   "metadata": {
    "collapsed": false
   },
   "id": "8404a1c91a7034ee"
  },
  {
   "cell_type": "code",
   "execution_count": 108,
   "id": "6b6c8611",
   "metadata": {
    "ExecuteTime": {
     "end_time": "2023-09-19T08:14:44.055028800Z",
     "start_time": "2023-09-19T08:14:43.913982800Z"
    }
   },
   "outputs": [],
   "source": [
    "import numpy as np"
   ]
  },
  {
   "cell_type": "markdown",
   "id": "37150124",
   "metadata": {},
   "source": [
    "**Внимание** Во всех заданиях данной работы **запрещено** обращаться к массивам поэлементно и использовать циклы языка Python"
   ]
  },
  {
   "cell_type": "markdown",
   "id": "1064f725",
   "metadata": {},
   "source": [
    "**Задание 1.** Напишите функцию, принимающую два массива произвольных размерностей и возвращающую True тогда и только тогда, когда эти два массива поэлементно равны"
   ]
  },
  {
   "cell_type": "code",
   "execution_count": 109,
   "id": "95446adb",
   "metadata": {
    "ExecuteTime": {
     "end_time": "2023-09-19T08:14:44.202089800Z",
     "start_time": "2023-09-19T08:14:43.929602200Z"
    }
   },
   "outputs": [],
   "source": [
    "def task1(x, y):\n",
    "    print(np.sum(x - y))\n",
    "    if x.shape != y.shape or np.sum(x - y) != 0:\n",
    "        return False\n",
    "    return True\n",
    "\n",
    "# Тестирование в конце файла"
   ]
  },
  {
   "cell_type": "markdown",
   "source": [
    "**Задание 2.** Напишите функцию, которая принимает на вход двумерный массив (это условие можно не проверять), и возврщает массис, в котором каждый элемент исходного массива поделен на сумму модулей элементов его строки.\n",
    "\n",
    "Например,\n",
    "для массива \n",
    "$$\n",
    "\\left(\\begin{array}{cc}\n",
    "    1 & - 1 \\\\\n",
    "    2 & 4\n",
    "\\end{array}\\right)\n",
    "$$ должен быть возвращен массив\n",
    "$$\n",
    "\\left(\\begin{array}{cc}\n",
    "    \\frac{1}{2} & -\\frac{1}{2} \\\\\n",
    "    \\frac{1}{3} & -\\frac{2}{3}\n",
    "\\end{array}\\right)\n",
    "$$"
   ],
   "metadata": {
    "collapsed": false
   },
   "id": "118e761c"
  },
  {
   "cell_type": "code",
   "execution_count": 110,
   "id": "3693e325",
   "metadata": {
    "ExecuteTime": {
     "end_time": "2023-09-19T08:14:44.261858900Z",
     "start_time": "2023-09-19T08:14:43.945225700Z"
    }
   },
   "outputs": [],
   "source": [
    "def task2(x):\n",
    "    sum1 = sum(abs(x[0]))\n",
    "    sum2 = sum(abs(x[1]))\n",
    "    if sum1 == 0 or sum2 == 0:\n",
    "        return False\n",
    "    return x / np.array([[sum1], [sum2]])\n",
    "\n",
    "# Тестирование в конце файла"
   ]
  },
  {
   "cell_type": "markdown",
   "id": "fb3a12bf",
   "metadata": {},
   "source": [
    "**Задание 3** Напишите функцию, которая принимает на вход одномреный массив и возвращает матрицу Вандермонда для элемментов этого массива.\n",
    "Напомним, что матрицей Вандермонда для элементов $(x_1, x_2, \\ldots, x_n)$ называется квадратная матрица порядка $n$, имеющая следующий вид\n",
    "$$ \n",
    "\\left(\\begin{array}{ccccc}\n",
    "1 & x_1 & x_1^2 & \\ldots  & x_1^{n - 1} \\\\\n",
    "1 & x_2 & x_2^2 & \\ldots  & x_2^{n - 1} \\\\\n",
    "1 & x_3 & x_3^2 & \\ldots  & x_3^{n - 1} \\\\\n",
    "& & \\ldots & & \\\\\n",
    "1 & x_n & x_n^2 & \\ldots  & x_n^{n - 1} \\\\\n",
    "\\end{array}\n",
    "\\right)\n",
    "$$\n",
    "\n",
    "*Важно*: в этом задании запрещено использовать встроенную функцию `np.vander`. И код из нее тоже не надо копировать и даже творчески переписывать не стоит, для решения достаточно функций, показанных на семинаре"
   ]
  },
  {
   "cell_type": "code",
   "execution_count": 111,
   "id": "7ef11eab",
   "metadata": {
    "ExecuteTime": {
     "end_time": "2023-09-19T08:14:44.294857700Z",
     "start_time": "2023-09-19T08:14:43.960852Z"
    }
   },
   "outputs": [],
   "source": [
    "def task3(elements):\n",
    "    if len(elements.shape) > 1:\n",
    "        return False\n",
    "    return elements[..., None] ** np.array([np.arange(0,\n",
    "                                                      len(elements))])  # У меня не получилось превратить одномерную строчку в столбец:( Поэтому подсмотрел на stack over flow такой способ c [..., None] (https://stackoverflow.com/questions/36384760/transforming-a-row-vector-into-a-column-vector-in-numpy)\n",
    "\n",
    "# Тестирование в конце файла"
   ]
  },
  {
   "cell_type": "markdown",
   "id": "f2f9fbb1",
   "metadata": {},
   "source": [
    "**Задание 4.** Напишите функцию, которая принимает на вход массив и возвращает новый массив, который получен из аргмента заменой всех отрицательных элементов на среднее значение всех положительных элементов исходного массива"
   ]
  },
  {
   "cell_type": "code",
   "execution_count": 112,
   "id": "18bb21fd",
   "metadata": {
    "ExecuteTime": {
     "end_time": "2023-09-19T08:14:44.328489800Z",
     "start_time": "2023-09-19T08:14:43.976476100Z"
    }
   },
   "outputs": [],
   "source": [
    "def task4(ar):\n",
    "    pos = ar[ar > 0]\n",
    "    if len(pos) < 1:\n",
    "        return False\n",
    "    ar[ar < 0] = np.sum(pos) / len(pos)\n",
    "    return ar\n",
    "\n",
    "# Тестирование в конце файла"
   ]
  },
  {
   "cell_type": "markdown",
   "source": [
    "## Тестирование"
   ],
   "metadata": {
    "collapsed": false
   },
   "id": "7b9ef140d2665b17"
  },
  {
   "cell_type": "markdown",
   "source": [
    "### Task1"
   ],
   "metadata": {
    "collapsed": false
   },
   "id": "4ab7c1f6ea8cd40e"
  },
  {
   "cell_type": "code",
   "execution_count": 113,
   "id": "6cd32b3d",
   "metadata": {
    "ExecuteTime": {
     "end_time": "2023-09-19T08:14:44.341143500Z",
     "start_time": "2023-09-19T08:14:43.998621900Z"
    }
   },
   "outputs": [
    {
     "name": "stdout",
     "output_type": "stream",
     "text": [
      "0\n",
      "-1\n"
     ]
    }
   ],
   "source": [
    "# Простые тесты\n",
    "array1 = np.array([\n",
    "    [1, 2, 3],\n",
    "    [4, 5, 6]\n",
    "])\n",
    "array2 = np.array([\n",
    "    [1, 2, 3],\n",
    "    [4, 5, 6]\n",
    "])\n",
    "assert task1(array1, array2) == True\n",
    "\n",
    "array2 = np.array([\n",
    "    [1, 2, 4],\n",
    "    [4, 5, 6]\n",
    "])\n",
    "assert task1(array1, array2) == False"
   ]
  },
  {
   "cell_type": "code",
   "execution_count": 114,
   "outputs": [
    {
     "name": "stdout",
     "output_type": "stream",
     "text": [
      "2\n",
      "0\n"
     ]
    }
   ],
   "source": [
    "# Тест с матрицей из одного числа\n",
    "array1 = np.array(1)\n",
    "array2 = np.array(-1)\n",
    "assert task1(array1, array2) == False\n",
    "\n",
    "array1 = np.array(-90000000021)\n",
    "array2 = np.array(-90000000021)\n",
    "assert task1(array1, array2) == True"
   ],
   "metadata": {
    "collapsed": false,
    "ExecuteTime": {
     "end_time": "2023-09-19T08:14:44.341143500Z",
     "start_time": "2023-09-19T08:14:44.103493200Z"
    }
   },
   "id": "3207767cc6d993da"
  },
  {
   "cell_type": "code",
   "execution_count": 115,
   "outputs": [
    {
     "name": "stdout",
     "output_type": "stream",
     "text": [
      "0.0\n",
      "3\n",
      "0.0\n"
     ]
    }
   ],
   "source": [
    "# Тест с пустыми\n",
    "array1 = np.array([])\n",
    "array2 = np.array([])\n",
    "assert task1(array1, array2) == True\n",
    "\n",
    "array1 = np.array(1)\n",
    "array2 = np.array(-2)\n",
    "assert task1(array1, array2) == False\n",
    "\n",
    "array1 = np.array([])\n",
    "array2 = np.array(2)\n",
    "assert task1(array1, array2) == False"
   ],
   "metadata": {
    "collapsed": false,
    "ExecuteTime": {
     "end_time": "2023-09-19T08:14:44.341143500Z",
     "start_time": "2023-09-19T08:14:44.125091200Z"
    }
   },
   "id": "d92cfd6f860ba40b"
  },
  {
   "cell_type": "code",
   "execution_count": 116,
   "outputs": [
    {
     "name": "stdout",
     "output_type": "stream",
     "text": [
      "1\n",
      "0\n",
      "0\n"
     ]
    },
    {
     "ename": "AssertionError",
     "evalue": "",
     "output_type": "error",
     "traceback": [
      "\u001B[1;31m---------------------------------------------------------------------------\u001B[0m",
      "\u001B[1;31mAssertionError\u001B[0m                            Traceback (most recent call last)",
      "Cell \u001B[1;32mIn[116], line 12\u001B[0m\n\u001B[0;32m     10\u001B[0m array1 \u001B[38;5;241m=\u001B[39m np\u001B[38;5;241m.\u001B[39marray([\u001B[38;5;241m10\u001B[39m, \u001B[38;5;241m-\u001B[39m\u001B[38;5;241m11\u001B[39m])\n\u001B[0;32m     11\u001B[0m array2 \u001B[38;5;241m=\u001B[39m np\u001B[38;5;241m.\u001B[39marray([\u001B[38;5;241m-\u001B[39m\u001B[38;5;241m11\u001B[39m, \u001B[38;5;241m10\u001B[39m])\n\u001B[1;32m---> 12\u001B[0m \u001B[38;5;28;01massert\u001B[39;00m task1(array1, array2) \u001B[38;5;241m==\u001B[39m \u001B[38;5;28;01mFalse\u001B[39;00m\n",
      "\u001B[1;31mAssertionError\u001B[0m: "
     ]
    }
   ],
   "source": [
    "# Тест с матрицами разного размера\n",
    "array1 = np.array([1, 2])\n",
    "array2 = np.array([1])\n",
    "assert task1(array1, array2) == False\n",
    "\n",
    "array1 = np.array([[1, 1]])\n",
    "array2 = np.array([1, 1])\n",
    "assert task1(array1, array2) == False\n",
    "\n",
    "array1 = np.array([10, -11])\n",
    "array2 = np.array([-11, 10])\n",
    "assert task1(array1, array2) == False"
   ],
   "metadata": {
    "collapsed": false,
    "ExecuteTime": {
     "end_time": "2023-09-19T08:14:44.501159100Z",
     "start_time": "2023-09-19T08:14:44.154789900Z"
    }
   },
   "id": "a79b27f73cbc71ed"
  },
  {
   "cell_type": "code",
   "execution_count": null,
   "outputs": [],
   "source": [
    "# Тест с большими матрицами\n",
    "array1 = np.arange(-10000000, 10000000, 0.33)\n",
    "array2 = np.arange(-10000000, 10000000, 0.33)\n",
    "assert task1(array1, array2) == True"
   ],
   "metadata": {
    "collapsed": false,
    "ExecuteTime": {
     "start_time": "2023-09-19T08:14:44.300589Z"
    }
   },
   "id": "e53ff16831a84b8e"
  },
  {
   "cell_type": "markdown",
   "source": [
    "### Task2"
   ],
   "metadata": {
    "collapsed": false
   },
   "id": "ca9c8db5ffb68a71"
  },
  {
   "cell_type": "code",
   "execution_count": null,
   "outputs": [],
   "source": [
    "# Простой тест\n",
    "array1 = np.array([[1, -1], [2, 4]])\n",
    "assert task1(task2(array1), np.array([[0.5, -0.5], [1 / 3, 2 / 3]]))"
   ],
   "metadata": {
    "collapsed": false,
    "ExecuteTime": {
     "start_time": "2023-09-19T08:14:44.304751700Z"
    }
   },
   "id": "e329ca72c7411898"
  },
  {
   "cell_type": "code",
   "execution_count": null,
   "outputs": [],
   "source": [
    "# Тест на нулевой\n",
    "array1 = np.array([[0, 0], [0, 0]])\n",
    "assert task2(array1) == False\n",
    "\n",
    "array1 = np.array([[0, 1], [0, 0]])\n",
    "assert task2(array1) == False"
   ],
   "metadata": {
    "collapsed": false,
    "ExecuteTime": {
     "start_time": "2023-09-19T08:14:44.312447900Z"
    }
   },
   "id": "60316ab50dfc4a36"
  },
  {
   "cell_type": "markdown",
   "source": [
    "### Task3"
   ],
   "metadata": {
    "collapsed": false
   },
   "id": "b4b63b4a2529d5cb"
  },
  {
   "cell_type": "code",
   "execution_count": null,
   "outputs": [],
   "source": [
    "# Тест на размерность\n",
    "array1 = np.array([[0], [0], [0]])\n",
    "assert task3(array1) == False\n",
    "\n",
    "array1 = np.array([[0], [0]])\n",
    "assert task3(array1) == False"
   ],
   "metadata": {
    "collapsed": false,
    "ExecuteTime": {
     "start_time": "2023-09-19T08:14:44.315374900Z"
    }
   },
   "id": "ae5164c5ae2548a9"
  },
  {
   "cell_type": "code",
   "execution_count": null,
   "outputs": [],
   "source": [
    "# Простой тест\n",
    "array1 = np.array([1, 2, 3, 4])\n",
    "assert task1(task3(array1), np.array([[1, 1, 1, 1],\n",
    "                                      [1, 2, 4, 8],\n",
    "                                      [1, 3, 9, 27],\n",
    "                                      [1, 4, 16, 64]]))"
   ],
   "metadata": {
    "collapsed": false,
    "ExecuteTime": {
     "start_time": "2023-09-19T08:14:44.318001Z"
    }
   },
   "id": "e3a5eb441c9c50a2"
  },
  {
   "cell_type": "markdown",
   "source": [
    "### Task 4"
   ],
   "metadata": {
    "collapsed": false
   },
   "id": "d68b506f6a02f507"
  },
  {
   "cell_type": "code",
   "execution_count": null,
   "outputs": [],
   "source": [
    "# Простой тест\n",
    "array1 = np.array([[1.0, -1.0], [2.0, 4.0]])\n",
    "assert task1(task4(array1), np.array([\n",
    "    [1, 7 / 3],\n",
    "    [2, 4],\n",
    "]))\n"
   ],
   "metadata": {
    "collapsed": false,
    "ExecuteTime": {
     "start_time": "2023-09-19T08:14:44.324016100Z"
    }
   },
   "id": "6d2c45e71afb18b4"
  },
  {
   "cell_type": "code",
   "execution_count": null,
   "outputs": [],
   "source": [
    "# Тест на ноль\n",
    "array1 = np.array([])\n",
    "assert task4(array1) == False"
   ],
   "metadata": {
    "collapsed": false,
    "ExecuteTime": {
     "start_time": "2023-09-19T08:14:44.329497Z"
    }
   },
   "id": "db8499f8d5231c1"
  }
 ],
 "metadata": {
  "kernelspec": {
   "display_name": "Python 3 (ipykernel)",
   "language": "python",
   "name": "python3"
  },
  "language_info": {
   "codemirror_mode": {
    "name": "ipython",
    "version": 3
   },
   "file_extension": ".py",
   "mimetype": "text/x-python",
   "name": "python",
   "nbconvert_exporter": "python",
   "pygments_lexer": "ipython3",
   "version": "3.10.12"
  }
 },
 "nbformat": 4,
 "nbformat_minor": 5
}
